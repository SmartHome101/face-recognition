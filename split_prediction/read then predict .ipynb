{
 "cells": [
  {
   "cell_type": "code",
   "execution_count": 2,
   "id": "d6a6410f",
   "metadata": {},
   "outputs": [
    {
     "name": "stderr",
     "output_type": "stream",
     "text": [
      "Using TensorFlow backend.\n"
     ]
    }
   ],
   "source": [
    "import numpy as np\n",
    "import glob as gb\n",
    "import keras\n",
    "from collections import Counter\n",
    "import pandas as pd\n",
    "import random\n",
    "import cv2\n",
    "import os\n",
    "import glob as gb\n",
    "import tensorflow as tf\n",
    "import keras\n",
    "import tensorflow as tf\n",
    "from tensorflow.keras import backend\n",
    "from tensorflow.keras.models import Sequential\n",
    "import tensorflow.keras\n",
    "#import keras\n",
    "from tensorflow import keras\n",
    "\n",
    "#load the model\n",
    "KerasModel = tf.keras.models.load_model('eight_members_ring.h5')"
   ]
  },
  {
   "cell_type": "code",
   "execution_count": 3,
   "id": "9df5a9c8",
   "metadata": {},
   "outputs": [
    {
     "name": "stdout",
     "output_type": "stream",
     "text": [
      "bassem\n"
     ]
    }
   ],
   "source": [
    "        \n",
    "#read the saved images and remove all images<140 pix then resize the remainig images        \n",
    "size=180\n",
    "X_pred = []\n",
    "files = gb.glob(pathname= str('pre_test_cnn_input//*.jpg'))\n",
    "for file in files: \n",
    "    \n",
    "    image = cv2.imread(file)\n",
    "    \n",
    "    #remove image less than 140 pix\n",
    "    if image.shape[0]<180 and image.shape[1]<180:\n",
    "        os.remove(file)  \n",
    "        \n",
    "    #resize the remainig images to 140 pix    \n",
    "    else:    \n",
    "        image_array = cv2.resize(image , (size,size))\n",
    "    \n",
    "        X_pred.append(list(image_array)) \n",
    "\n",
    "        \n",
    "        \n",
    "        \n",
    " \n",
    "    \n",
    "\n",
    "#use the model to predict how use the camera    \n",
    "X_pred_array = np.array(X_pred)\n",
    "#print(f'X_pred shape  is {X_pred_array.shape}')\n",
    "y_result =KerasModel.predict(tf.cast(X_pred_array,tf.float32))\n",
    "#KerasModel.predict(X_pred_array)\n",
    "#print(y_result)\n",
    "\n",
    "\n",
    "\n",
    "\n",
    "#set the ids\n",
    "\n",
    "code = {'babers':0,'bassem':1,'elelfy':2,'eman':3,'ramadn':4,'roqia':5,'sabek':6,'salma':7}\n",
    "def getcode(n) : \n",
    "    for x , y in code.items() : \n",
    "        if n == y : \n",
    "            return x \n",
    "        \n",
    "\n",
    "        \n",
    "\n",
    "        \n",
    "#get the user name\n",
    "final_name=[]\n",
    "for i in range(len(X_pred)):\n",
    "   \n",
    "          final_name.append(getcode(np.argmax(y_result[i])))\n",
    "          #print(np.argmax(y_result[i]))\n",
    "          #print(getcode(np.argmax(y_result[i])))\n",
    "          \n",
    "        \n",
    "    \n",
    "#print(final_name) \n",
    "    \n",
    "\n",
    "    \n",
    "\n",
    "    \n",
    "    \n",
    "    \n",
    "#get the real user name    \n",
    "def most_common(final_name):\n",
    "    data = Counter(final_name)\n",
    "    return max(final_name, key=data.get)\n",
    "\n",
    "the_user=most_common(final_name)\n",
    "#printr the user name\n",
    "print(the_user)  "
   ]
  }
 ],
 "metadata": {
  "kernelspec": {
   "display_name": "Python 3 (ipykernel)",
   "language": "python",
   "name": "python3"
  },
  "language_info": {
   "codemirror_mode": {
    "name": "ipython",
    "version": 3
   },
   "file_extension": ".py",
   "mimetype": "text/x-python",
   "name": "python",
   "nbconvert_exporter": "python",
   "pygments_lexer": "ipython3",
   "version": "3.7.2"
  }
 },
 "nbformat": 4,
 "nbformat_minor": 5
}
