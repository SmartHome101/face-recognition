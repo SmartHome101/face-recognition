{
 "cells": [
  {
   "cell_type": "code",
   "execution_count": 3,
   "id": "2931f4e3",
   "metadata": {},
   "outputs": [],
   "source": [
    "import numpy as np\n",
    "import glob as gb\n",
    "import cv2\n",
    "import os\n",
    "\n",
    "\n",
    "#use open cv to det the user images\n",
    "face_cascade = cv2.CascadeClassifier('haarcascade_frontalface_default.xml')\n",
    "cap = cv2.VideoCapture(0)\n",
    "img_id = 0\n",
    "\n",
    "\n",
    "#files = gb.glob(pathname= str('pre_test_cnn_input//*.jpg'))\n",
    "#for file in files:\n",
    " #    os.remove(file) \n",
    "\n",
    "while True:\n",
    "    ret,frame=cap.read()\n",
    "    gray=cv2.cvtColor(frame,cv2.COLOR_BGR2GRAY)\n",
    "    faces=face_cascade.detectMultiScale(gray,scaleFactor=1.8, minNeighbors=3)\n",
    "  \n",
    "    for face in faces:\n",
    "        x,y,w,h=face\n",
    "        \n",
    "        \n",
    "        roi_color = frame[y:y+h+40, x:x+w+40]  #(ycord_start, ycord_end)\n",
    "        \n",
    "        \n",
    "        \n",
    "        #save the frame images\n",
    "        #change the name before run again\n",
    "        file_name_path = \"pre_test_cnn_input/\"+\"user\"+str(img_id)+\".jpg\"\n",
    "        cv2.imwrite(file_name_path, roi_color)\n",
    "           \n",
    "        \n",
    "        y_end_cord=y+h\n",
    "        x_end_cord=x+w\n",
    "        color=(255,0,0)\n",
    "        strock=2\n",
    "        cv2.rectangle(frame,(x,y),(x_end_cord,y_end_cord),color,strock)\n",
    "        img_id+=1\n",
    "           \n",
    "   \n",
    "\n",
    "    if ret==True:\n",
    "         cv2.imshow('frame1',frame)\n",
    "    if cv2.waitKey(1)==13 or int(img_id)==50:\n",
    "                break\n",
    "\n",
    "        \n",
    "cap.release()\n",
    "cv2.destroyAllWindows()\n",
    "        \n"
   ]
  }
 ],
 "metadata": {
  "kernelspec": {
   "display_name": "Python 3 (ipykernel)",
   "language": "python",
   "name": "python3"
  },
  "language_info": {
   "codemirror_mode": {
    "name": "ipython",
    "version": 3
   },
   "file_extension": ".py",
   "mimetype": "text/x-python",
   "name": "python",
   "nbconvert_exporter": "python",
   "pygments_lexer": "ipython3",
   "version": "3.7.2"
  }
 },
 "nbformat": 4,
 "nbformat_minor": 5
}
